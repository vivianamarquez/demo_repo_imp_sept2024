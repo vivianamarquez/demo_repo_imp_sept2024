{
 "cells": [
  {
   "cell_type": "markdown",
   "id": "32e62d12",
   "metadata": {},
   "source": [
    "# Reinforcement Learning _ Intro example\n",
    "\n",
    "Let's consider a classic and simple reinforcement learning problem: the CartPole game from OpenAI's Gym library.\n",
    "\n",
    "**Game description:** A pole is attached by an un-actuated joint to a cart, which moves along a frictionless track. The goal is to keep the pole balanced upright by moving the cart left or right.\n",
    "\n",
    "Play yourself! Here: https://jeffjar.me/cartpole.html\n"
   ]
  },
  {
   "cell_type": "markdown",
   "id": "92bcc6de",
   "metadata": {},
   "source": [
    "## Installing libraries\n",
    "\n",
    "- Install OpenAI's gym library using `pip install gym`\n",
    "- Documentation: https://gymnasium.farama.org/\n",
    "- GitHub: https://github.com/openai/gym/"
   ]
  },
  {
   "cell_type": "code",
   "execution_count": 1,
   "id": "b1f1de36",
   "metadata": {
    "scrolled": true
   },
   "outputs": [
    {
     "name": "stdout",
     "output_type": "stream",
     "text": [
      "gym==0.15.3\r\n",
      "gym-notices==0.0.8\r\n"
     ]
    }
   ],
   "source": [
    "! pip freeze | grep gym"
   ]
  },
  {
   "cell_type": "code",
   "execution_count": 2,
   "id": "c29fa04b",
   "metadata": {},
   "outputs": [],
   "source": [
    "# ! pip install gym==0.15.3"
   ]
  },
  {
   "cell_type": "markdown",
   "id": "a913f4c9",
   "metadata": {},
   "source": [
    "## Load libraries"
   ]
  },
  {
   "cell_type": "code",
   "execution_count": 25,
   "id": "0234eacb",
   "metadata": {},
   "outputs": [],
   "source": [
    "import gym\n",
    "import matplotlib.pyplot as plt\n",
    "import matplotlib.patches as patches\n",
    "import numpy as np\n",
    "from IPython.display import display, clear_output"
   ]
  },
  {
   "cell_type": "markdown",
   "id": "9076fc67",
   "metadata": {},
   "source": [
    "## Create function to visualize pole\n",
    "\n",
    "Rendering a visual representation of the CartPole environment at a given time step. Its main purpose is to display the state of the CartPole simulation, including the cart, the pole, and relevant information, on a graphical interface for visualization and debugging."
   ]
  },
  {
   "cell_type": "code",
   "execution_count": 26,
   "id": "317c51a4",
   "metadata": {},
   "outputs": [],
   "source": [
    "def render_cartpole(ax, observation, step, action, reward, episode):\n",
    "    ax.clear()\n",
    "\n",
    "    # CartPole constants\n",
    "    cart_width = 0.3\n",
    "    cart_height = 0.2\n",
    "    pole_width = 0.05\n",
    "    pole_len = 1.0\n",
    "\n",
    "    # Extract the observation data\n",
    "    x_cart, x_dot, theta, theta_dot = observation\n",
    "\n",
    "    # Convert pole angle to x, y coordinates\n",
    "    pole_x = x_cart + pole_len * np.sin(theta)\n",
    "    pole_y = cart_height / 2 + pole_len * np.cos(theta)\n",
    "\n",
    "    # Draw cart\n",
    "    cart = patches.Rectangle((x_cart - cart_width / 2, 0), cart_width, cart_height, fill=True, color='skyblue')\n",
    "    ax.add_patch(cart)\n",
    "\n",
    "    # Draw pole\n",
    "    # For debugging: set the angle of the pole to 0 degrees to see if it appears vertical\n",
    "    #debug_angle = 0\n",
    "    #pole = patches.Rectangle((x_cart - pole_width / 2, cart_height / 2), pole_width, pole_len, fill=True, color='chocolate', angle=debug_angle)\n",
    "    pole = patches.Rectangle((x_cart - pole_width / 2, cart_height / 2), pole_width, pole_len, fill=True, color='chocolate', angle=np.rad2deg(theta))\n",
    "    ax.add_patch(pole)\n",
    "\n",
    "    # Set plot limits and labels\n",
    "    ax.set_xlim(-2.5, 2.5)\n",
    "    ax.set_ylim(-0.5, 2)\n",
    "    ax.set_xticks([])\n",
    "    ax.set_yticks([])\n",
    "    ax.set_title(\"CartPole Environment\")\n",
    "\n",
    "    # Add text with step details\n",
    "    action_text = 'Right' if action == 1 else 'Left'\n",
    "    text = f\"Episode: {episode}, Step: {step}, Action: {action_text}, Pole Angle: {theta:.4f}, Reward: {reward}\"\n",
    "    plt.text(-2.3, 1.8, text, fontsize=12, bbox=dict(facecolor='white', alpha=0.5))"
   ]
  },
  {
   "cell_type": "markdown",
   "id": "9e93b15b",
   "metadata": {},
   "source": [
    "# Main code\n",
    "\n",
    "- The **environment** is like a virtual world or scenario where an agent, often a computer program or a robot, interacts and learns. Think of it as the setting or context in which the agent operates.\n",
    "\n",
    "- The **agent** refers to the entity or software program that is learning and making decisions within an environment to achieve a specific goal. The agent is the learner and decision-maker in the RL setup.\n",
    "\n",
    "- A **state** represents the current situation or configuration of the environment that the RL agent is in. It's like a snapshot that captures all the relevant information the agent needs to make decisions and take actions.\n",
    "\n",
    "- An **episode** represents a single run or sequence of interactions between the RL agent and the environment, starting from an initial state and continuing until a specific termination condition is met.\n",
    "\n",
    "- A **step** or **time step** refers to a discrete unit of time or action within an episode. It represents the progression of time and actions taken by the RL agent as it interacts with the environment.\n",
    "\n",
    "- An **action** is a decision or choice made by the RL agent at a particular time step to interact with the environment. Actions are what the agent uses to influence the state of the environment and ultimately achieve its objectives. In RL, actions can be discrete (e.g., moving left or right in a game) or continuous (e.g., setting a motor speed).\n",
    "\n",
    "- A **reward** is a numerical value that serves as feedback to an RL agent, indicating how well it's performing in the environment. \n",
    "\n",
    "### Specifics about the code:\n",
    "\n",
    "- `action = 1 if observation[2] > 0 else 0` \n",
    "    - `observation` represents the current state of the environment. In this specific context, observation likely contains information about the CartPole system, including the position and velocity of the cart and the pole.\n",
    "    - `observation[2]` refers to the third element of the `observation` array. In CartPole environments, this element typically represents the angle of the pole with respect to the vertical axis. It's a measure of how tilted the pole is.\n",
    "    - `observation[2] > 0` checks whether the pole angle is greater than zero. This condition evaluates to True if the pole is tilted to the right (positive angle) and False if it's tilted to the left (negative angle) or perfectly upright (zero angle).\n",
    "    - The line uses a conditional expression (if and else) to choose an action based on the pole angle. If the pole angle is greater than zero (tilted to the right), it assigns action the value 1, indicating a decision to take a specific action (e.g., push the cart to the right). If the pole angle is not greater than zero (tilted to the left or upright), it assigns action the value 0, indicating a different action (e.g., push the cart to the left or take no action).\n",
    "    \n",
    "- `observation, reward, done, _ = env.step(action)`\n",
    "    - The RL agent selects an action based on its current state.\n",
    "    - The agent instructs the environment to take that action using .step(action).\n",
    "    - The environment responds by providing the updated state (observation), the reward for the action (reward), and whether the episode is done (done)."
   ]
  },
  {
   "cell_type": "code",
   "execution_count": 29,
   "id": "b155e9ce",
   "metadata": {
    "scrolled": false
   },
   "outputs": [
    {
     "name": "stdout",
     "output_type": "stream",
     "text": [
      "Episode 20 finished after 39 timesteps\n"
     ]
    },
    {
     "data": {
      "image/png": "[encoded data removed]",
      "text/plain": [
       "<Figure size 800x400 with 1 Axes>"
      ]
     },
     "metadata": {},
     "output_type": "display_data"
    }
   ],
   "source": [
    "# Create the CartPole environment\n",
    "env = gym.make('CartPole-v1')\n",
    "\n",
    "# Initialize variables for plotting the pole angle over time\n",
    "states = []\n",
    "times = []\n",
    "\n",
    "fig, ax = plt.subplots(figsize=(8, 4))\n",
    "\n",
    "for i_episode in range(20):  # Run for a single episode\n",
    "    observation = env.reset()  # Reset the environment to start a new episode\n",
    "\n",
    "    for t in range(100):  # Limit the number of time steps per episode\n",
    "        action = 1 if observation[2] > 0 else 0  # Choose action based on pole angle\n",
    "        observation, reward, done, _ = env.step(action)  # Take a step\n",
    "\n",
    "        # Render the cartpole using matplotlib\n",
    "        render_cartpole(ax, observation, t, action, reward, i_episode)\n",
    "        display(plt.gcf())  # Display the current frame\n",
    "        clear_output(wait=True)  # Clear the output to make room for the next frame\n",
    "\n",
    "        # Save the figure locally\n",
    "        filename = f\"images/cartpole_episode{i_episode}_step_{t}.png\"\n",
    "        plt.savefig(filename)\n",
    "\n",
    "        # Save data for plotting pole angle over time\n",
    "        states.append(observation)\n",
    "        times.append(t)\n",
    "\n",
    "        if done:  # Check if the episode is done\n",
    "            print(f\"Episode {i_episode+1} finished after {t+1} timesteps\")\n",
    "            break\n",
    "\n",
    "env.close()  # Close the environment"
   ]
  },
  {
   "cell_type": "markdown",
   "id": "f5dbea2f",
   "metadata": {},
   "source": [
    "Note: The code uses a Q-learning algorithm, a fundamental RL technique. Q-learning is a model-free RL algorithm that learns to estimate the quality (Q-values) of state-action pairs and uses these estimates to make decisions."
   ]
  }
 ],
 "metadata": {
  "kernelspec": {
   "display_name": "Python 3 (ipykernel)",
   "language": "python",
   "name": "python3"
  },
  "language_info": {
   "codemirror_mode": {
    "name": "ipython",
    "version": 3
   },
   "file_extension": ".py",
   "mimetype": "text/x-python",
   "name": "python",
   "nbconvert_exporter": "python",
   "pygments_lexer": "ipython3",
   "version": "3.9.13"
  }
 },
 "nbformat": 4,
 "nbformat_minor": 5
}
